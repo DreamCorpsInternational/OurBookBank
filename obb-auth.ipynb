{
 "metadata": {
  "name": "",
  "signature": "sha256:f461b7939c9ba74faed77de3b805c7b7ed8fcfd2475137ac4ae1b5456ca4aa3b"
 },
 "nbformat": 3,
 "nbformat_minor": 0,
 "worksheets": [
  {
   "cells": [
    {
     "cell_type": "code",
     "collapsed": false,
     "input": [
      "import os\n",
      "from pymongo import Connection\n",
      "mc = Connection('localhost', 27017)\n",
      "db = mc.obb\n",
      "users = db.Users\n",
      "key = { \"username\" : \"bob\" }\n",
      "data = { \"username\" : \"bob\", \"phoneNumber\" : \"6473093872\", \"email\" : \"chris.brelski\" }\n",
      "users.update(key, data, True)\n",
      "\n",
      "magicCode = \"2718281828\"\n",
      "requestDict = { \"username\" : \"bob\", \"authcode\" : \"2718281828\" }\n",
      "userName = requestDict[\"username\"]\n",
      "authCode = requestDict[\"authcode\"]\n",
      "\n",
      "userAuthStates = db.UserAuthStates\n",
      "\n",
      "def generateAuthCode():\n",
      "    return str(int(os.urandom(24).encode('hex'), 16) % 1000000).zfill(6)\n",
      "\n",
      "def generateSessionToken():\n",
      "    return os.urandom(64).encode('hex')\n",
      "\n",
      "def isAuthCodeValid(userAuthStates, userName, authCode):\n",
      "    results = userAuthStates.find({\"username\" : userName})\n",
      "    if results.count() != 1:\n",
      "        return False\n",
      "    else:\n",
      "        userAuthState = results.next()\n",
      "        if userAuthState[\"authcode\"] == authCode:\n",
      "            return True\n",
      "        else:\n",
      "            return False\n",
      "\n",
      "def storeSessionToken(userAuthStates, userName, token):\n",
      "    key = { \"username\" : userName }\n",
      "    data = { \"username\" : userName, \"sessiontoken\" : token }\n",
      "    userAuthStates.update(key, data, True)\n",
      "\n",
      "def storeAuthCode(userAuthStates, userName, responseAuthCode):\n",
      "    key = { \"username\" : userName }\n",
      "    data = { \"username\" : userName, \"authcode\" : responseAuthCode }\n",
      "    userAuthStates.update(key, data, True)\n",
      "\n",
      "def authRequestToResponseContent(userAuthStates, requestDict):\n",
      "    userName = requestDict[\"username\"]\n",
      "    authCode = requestDict[\"authcode\"]\n",
      "    if authCode == magicCode :\n",
      "        responseAuthCode = generateAuthCode()\n",
      "        storeAuthCode(userAuthStates, userName, responseAuthCode)\n",
      "        return (\"201\", responseAuthCode)\n",
      "    else:\n",
      "        if isAuthCodeValid(userAuthStates, userName, authCode):\n",
      "            token = generateSessionToken()\n",
      "            storeSessionToken(userAuthStates, userName, token)\n",
      "            return (\"200\", token)\n",
      "        else:\n",
      "            return (\"401\", \":(\")\n"
     ],
     "language": "python",
     "metadata": {},
     "outputs": [],
     "prompt_number": 41
    },
    {
     "cell_type": "code",
     "collapsed": false,
     "input": [
      "authRequestToResponseContent(userAuthStates, requestDict)"
     ],
     "language": "python",
     "metadata": {},
     "outputs": [
      {
       "metadata": {},
       "output_type": "pyout",
       "prompt_number": 43,
       "text": [
        "('201', '439925')"
       ]
      }
     ],
     "prompt_number": 43
    },
    {
     "cell_type": "code",
     "collapsed": false,
     "input": [
      "authRequestToResponseContent(userAuthStates, {\"username\" : \"bob\", \"authcode\" : \"439925\"})"
     ],
     "language": "python",
     "metadata": {},
     "outputs": [
      {
       "metadata": {},
       "output_type": "pyout",
       "prompt_number": 44,
       "text": [
        "('200',\n",
        " '2614498afccc3f54e31d347d2be9bfd5baf1f255e3b33124c4f63654b9a16ded3bdff2b341a242c26a10a5a6c0b09eeae9201a800b68aac6e676b35aa25555a0')"
       ]
      }
     ],
     "prompt_number": 44
    },
    {
     "cell_type": "code",
     "collapsed": false,
     "input": [
      "a = userAuthStates.find({\"username\":\"bob\"}).next()"
     ],
     "language": "python",
     "metadata": {},
     "outputs": [],
     "prompt_number": 36
    },
    {
     "cell_type": "code",
     "collapsed": false,
     "input": [
      "results = userAuthStates.find({\"username\":\"bob\"})"
     ],
     "language": "python",
     "metadata": {},
     "outputs": [],
     "prompt_number": 40
    },
    {
     "cell_type": "code",
     "collapsed": false,
     "input": [
      "results.count"
     ],
     "language": "python",
     "metadata": {},
     "outputs": []
    },
    {
     "cell_type": "code",
     "collapsed": false,
     "input": [
      "isAuthCodeValid(userAuthStates, \"bob\", \"394480\")"
     ],
     "language": "python",
     "metadata": {},
     "outputs": [
      {
       "metadata": {},
       "output_type": "pyout",
       "prompt_number": 42,
       "text": [
        "True"
       ]
      }
     ],
     "prompt_number": 42
    },
    {
     "cell_type": "code",
     "collapsed": false,
     "input": [],
     "language": "python",
     "metadata": {},
     "outputs": []
    }
   ],
   "metadata": {}
  }
 ]
}